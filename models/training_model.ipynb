{
 "cells": [
  {
   "cell_type": "code",
   "execution_count": 34,
   "metadata": {},
   "outputs": [],
   "source": [
    "# pip install --upgrade --user ortools"
   ]
  },
  {
   "cell_type": "code",
   "execution_count": 35,
   "metadata": {},
   "outputs": [],
   "source": [
    "from PointerNet import PtrNet, Critic\n",
    "from tsp_data import Tsp\n",
    "import torch\n",
    "\n",
    "import torch.nn as nn\n",
    "from torch.utils.data import TensorDataset, DataLoader\n",
    "import torch.nn.functional as F\n",
    "import torch.optim as optim\n",
    "\n",
    "import time\n",
    "from tqdm import tqdm\n",
    "import matplotlib.pyplot as plt"
   ]
  },
  {
   "cell_type": "code",
   "execution_count": 36,
   "metadata": {},
   "outputs": [
    {
     "name": "stdout",
     "output_type": "stream",
     "text": [
      "cuda\n"
     ]
    }
   ],
   "source": [
    "# Set device\n",
    "device = torch.device('cuda' if torch.cuda.is_available() else 'cpu')\n",
    "# device = torch.device('cpu')\n",
    "print(device)"
   ]
  },
  {
   "cell_type": "code",
   "execution_count": 37,
   "metadata": {},
   "outputs": [
    {
     "data": {
      "text/plain": [
       "tensor([[[0.9113, 5.5867],\n",
       "         [5.6572, 5.8759],\n",
       "         [7.8759, 8.3096],\n",
       "         ...,\n",
       "         [6.3746, 0.0212],\n",
       "         [2.0425, 2.4690],\n",
       "         [7.6219, 2.2999]],\n",
       "\n",
       "        [[7.8990, 3.8796],\n",
       "         [3.3220, 8.3968],\n",
       "         [7.0573, 2.2850],\n",
       "         ...,\n",
       "         [1.3557, 9.7055],\n",
       "         [1.6539, 0.9246],\n",
       "         [6.4377, 9.3052]],\n",
       "\n",
       "        [[5.3749, 5.5163],\n",
       "         [1.5314, 9.3630],\n",
       "         [1.5162, 7.9102],\n",
       "         ...,\n",
       "         [9.7241, 5.7229],\n",
       "         [4.7208, 4.2310],\n",
       "         [6.9921, 6.1235]],\n",
       "\n",
       "        ...,\n",
       "\n",
       "        [[6.2131, 1.1924],\n",
       "         [6.4167, 8.3115],\n",
       "         [1.6980, 6.3862],\n",
       "         ...,\n",
       "         [5.6985, 3.5763],\n",
       "         [9.9159, 7.7913],\n",
       "         [8.5293, 9.5337]],\n",
       "\n",
       "        [[9.6788, 2.5420],\n",
       "         [4.9812, 9.2833],\n",
       "         [5.5906, 4.7701],\n",
       "         ...,\n",
       "         [7.6115, 6.7717],\n",
       "         [7.7042, 9.5903],\n",
       "         [7.8305, 4.9100]],\n",
       "\n",
       "        [[0.2710, 4.9755],\n",
       "         [3.4787, 1.2458],\n",
       "         [0.1557, 9.5829],\n",
       "         ...,\n",
       "         [1.6320, 2.6318],\n",
       "         [7.0619, 3.3703],\n",
       "         [6.3674, 5.1916]]], device='cuda:0')"
      ]
     },
     "execution_count": 37,
     "metadata": {},
     "output_type": "execute_result"
    }
   ],
   "source": [
    "# Load (Generate) dataset\n",
    "\n",
    "# tsp = Tsp(N=50)\n",
    "tsp = Tsp(N=136)\n",
    "# X, _ = tsp.next_batch(1280000)\n",
    "X = torch.load(\"tsp100_instances.pt\").to(device)\n",
    "\n",
    "X"
   ]
  },
  {
   "cell_type": "code",
   "execution_count": 38,
   "metadata": {},
   "outputs": [],
   "source": [
    "X = torch.LongTensor\n",
    "X_val,_ = tsp.next_batch(1000)\n",
    "X_val = X_val.to(device)"
   ]
  },
  {
   "cell_type": "code",
   "execution_count": 40,
   "metadata": {},
   "outputs": [
    {
     "name": "stdout",
     "output_type": "stream",
     "text": [
      "<class 'torch.tensortype'>\n"
     ]
    }
   ],
   "source": [
    "print(type(X))"
   ]
  },
  {
   "cell_type": "code",
   "execution_count": 39,
   "metadata": {},
   "outputs": [
    {
     "ename": "TypeError",
     "evalue": "descriptor 'size' for 'torch._C._TensorBase' objects doesn't apply to a 'int' object",
     "output_type": "error",
     "traceback": [
      "\u001b[1;31m---------------------------------------------------------------------------\u001b[0m",
      "\u001b[1;31mTypeError\u001b[0m                                 Traceback (most recent call last)",
      "\u001b[1;32mc:\\Users\\jymin\\OneDrive - UNIST\\02. 2023년 2학기 수업\\지식 서비스 공학\\TermProject\\Tsp_Modeling\\training_model.ipynb Cell 6\u001b[0m line \u001b[0;36m3\n\u001b[0;32m      <a href='vscode-notebook-cell:/c%3A/Users/jymin/OneDrive%20-%20UNIST/02.%202023%EB%85%84%202%ED%95%99%EA%B8%B0%20%EC%88%98%EC%97%85/%EC%A7%80%EC%8B%9D%20%EC%84%9C%EB%B9%84%EC%8A%A4%20%EA%B3%B5%ED%95%99/TermProject/Tsp_Modeling/training_model.ipynb#W5sZmlsZQ%3D%3D?line=0'>1</a>\u001b[0m \u001b[39m# Make dataloader\u001b[39;00m\n\u001b[1;32m----> <a href='vscode-notebook-cell:/c%3A/Users/jymin/OneDrive%20-%20UNIST/02.%202023%EB%85%84%202%ED%95%99%EA%B8%B0%20%EC%88%98%EC%97%85/%EC%A7%80%EC%8B%9D%20%EC%84%9C%EB%B9%84%EC%8A%A4%20%EA%B3%B5%ED%95%99/TermProject/Tsp_Modeling/training_model.ipynb#W5sZmlsZQ%3D%3D?line=2'>3</a>\u001b[0m dataset \u001b[39m=\u001b[39m TensorDataset(X)\n\u001b[0;32m      <a href='vscode-notebook-cell:/c%3A/Users/jymin/OneDrive%20-%20UNIST/02.%202023%EB%85%84%202%ED%95%99%EA%B8%B0%20%EC%88%98%EC%97%85/%EC%A7%80%EC%8B%9D%20%EC%84%9C%EB%B9%84%EC%8A%A4%20%EA%B3%B5%ED%95%99/TermProject/Tsp_Modeling/training_model.ipynb#W5sZmlsZQ%3D%3D?line=3'>4</a>\u001b[0m \u001b[39m# batch_size = 256  # original\u001b[39;00m\n\u001b[0;32m      <a href='vscode-notebook-cell:/c%3A/Users/jymin/OneDrive%20-%20UNIST/02.%202023%EB%85%84%202%ED%95%99%EA%B8%B0%20%EC%88%98%EC%97%85/%EC%A7%80%EC%8B%9D%20%EC%84%9C%EB%B9%84%EC%8A%A4%20%EA%B3%B5%ED%95%99/TermProject/Tsp_Modeling/training_model.ipynb#W5sZmlsZQ%3D%3D?line=4'>5</a>\u001b[0m batch_size \u001b[39m=\u001b[39m torch\u001b[39m.\u001b[39mLongTensor(\u001b[39m256\u001b[39m)\n",
      "File \u001b[1;32mc:\\Users\\jymin\\AppData\\Local\\Programs\\Python\\Python39\\lib\\site-packages\\torch\\utils\\data\\dataset.py:204\u001b[0m, in \u001b[0;36mTensorDataset.__init__\u001b[1;34m(self, *tensors)\u001b[0m\n\u001b[0;32m    203\u001b[0m \u001b[39mdef\u001b[39;00m \u001b[39m__init__\u001b[39m(\u001b[39mself\u001b[39m, \u001b[39m*\u001b[39mtensors: Tensor) \u001b[39m-\u001b[39m\u001b[39m>\u001b[39m \u001b[39mNone\u001b[39;00m:\n\u001b[1;32m--> 204\u001b[0m     \u001b[39massert\u001b[39;00m \u001b[39mall\u001b[39;49m(tensors[\u001b[39m0\u001b[39;49m]\u001b[39m.\u001b[39;49msize(\u001b[39m0\u001b[39;49m) \u001b[39m==\u001b[39;49m tensor\u001b[39m.\u001b[39;49msize(\u001b[39m0\u001b[39;49m) \u001b[39mfor\u001b[39;49;00m tensor \u001b[39min\u001b[39;49;00m tensors), \u001b[39m\"\u001b[39m\u001b[39mSize mismatch between tensors\u001b[39m\u001b[39m\"\u001b[39m\n\u001b[0;32m    205\u001b[0m     \u001b[39mself\u001b[39m\u001b[39m.\u001b[39mtensors \u001b[39m=\u001b[39m tensors\n",
      "File \u001b[1;32mc:\\Users\\jymin\\AppData\\Local\\Programs\\Python\\Python39\\lib\\site-packages\\torch\\utils\\data\\dataset.py:204\u001b[0m, in \u001b[0;36m<genexpr>\u001b[1;34m(.0)\u001b[0m\n\u001b[0;32m    203\u001b[0m \u001b[39mdef\u001b[39;00m \u001b[39m__init__\u001b[39m(\u001b[39mself\u001b[39m, \u001b[39m*\u001b[39mtensors: Tensor) \u001b[39m-\u001b[39m\u001b[39m>\u001b[39m \u001b[39mNone\u001b[39;00m:\n\u001b[1;32m--> 204\u001b[0m     \u001b[39massert\u001b[39;00m \u001b[39mall\u001b[39m(tensors[\u001b[39m0\u001b[39;49m]\u001b[39m.\u001b[39;49msize(\u001b[39m0\u001b[39;49m) \u001b[39m==\u001b[39m tensor\u001b[39m.\u001b[39msize(\u001b[39m0\u001b[39m) \u001b[39mfor\u001b[39;00m tensor \u001b[39min\u001b[39;00m tensors), \u001b[39m\"\u001b[39m\u001b[39mSize mismatch between tensors\u001b[39m\u001b[39m\"\u001b[39m\n\u001b[0;32m    205\u001b[0m     \u001b[39mself\u001b[39m\u001b[39m.\u001b[39mtensors \u001b[39m=\u001b[39m tensors\n",
      "\u001b[1;31mTypeError\u001b[0m: descriptor 'size' for 'torch._C._TensorBase' objects doesn't apply to a 'int' object"
     ]
    }
   ],
   "source": [
    "# Make dataloader\n",
    "\n",
    "dataset = TensorDataset(X)\n",
    "batch_size = 256\n",
    "dataloader = DataLoader(dataset, batch_size=batch_size, shuffle=True)"
   ]
  },
  {
   "cell_type": "code",
   "execution_count": null,
   "metadata": {},
   "outputs": [],
   "source": [
    "# Initialize model\n",
    "hidden_dim = 256\n",
    "model = PtrNet(hidden_dim=hidden_dim).to(device)\n",
    "critic = Critic(hidden_dim=hidden_dim).to(device)\n"
   ]
  },
  {
   "cell_type": "code",
   "execution_count": null,
   "metadata": {},
   "outputs": [
    {
     "name": "stdout",
     "output_type": "stream",
     "text": [
      "The model has 530,688 trainable parameters\n"
     ]
    }
   ],
   "source": [
    "def count_parameters(model):\n",
    "    return sum(p.numel() for p in model.parameters() if p.requires_grad)\n",
    "\n",
    "print(f'The model has {count_parameters(model):,} trainable parameters')"
   ]
  },
  {
   "cell_type": "code",
   "execution_count": null,
   "metadata": {},
   "outputs": [],
   "source": [
    "Learning_rate = 1e-4\n",
    "optimizer = optim.Adam(model.parameters(), lr=Learning_rate)\n",
    "optimizer_ = optim.Adam(critic.parameters(), lr=Learning_rate)"
   ]
  },
  {
   "cell_type": "code",
   "execution_count": null,
   "metadata": {},
   "outputs": [
    {
     "name": "stdout",
     "output_type": "stream",
     "text": [
      "...Start training on cuda...\n"
     ]
    },
    {
     "ename": "NameError",
     "evalue": "name 'dataloader' is not defined",
     "output_type": "error",
     "traceback": [
      "\u001b[1;31m---------------------------------------------------------------------------\u001b[0m",
      "\u001b[1;31mNameError\u001b[0m                                 Traceback (most recent call last)",
      "\u001b[1;32mc:\\Users\\jymin\\OneDrive - UNIST\\02. 2023년 2학기 수업\\지식 서비스 공학\\TermProject\\Tsp_Modeling\\training_model.ipynb Cell 10\u001b[0m line \u001b[0;36m5\n\u001b[0;32m      <a href='vscode-notebook-cell:/c%3A/Users/jymin/OneDrive%20-%20UNIST/02.%202023%EB%85%84%202%ED%95%99%EA%B8%B0%20%EC%88%98%EC%97%85/%EC%A7%80%EC%8B%9D%20%EC%84%9C%EB%B9%84%EC%8A%A4%20%EA%B3%B5%ED%95%99/TermProject/Tsp_Modeling/training_model.ipynb#X12sZmlsZQ%3D%3D?line=2'>3</a>\u001b[0m \u001b[39mprint\u001b[39m(\u001b[39mf\u001b[39m\u001b[39m\"\u001b[39m\u001b[39m...Start training on \u001b[39m\u001b[39m{\u001b[39;00mdevice\u001b[39m}\u001b[39;00m\u001b[39m...\u001b[39m\u001b[39m\"\u001b[39m)\n\u001b[0;32m      <a href='vscode-notebook-cell:/c%3A/Users/jymin/OneDrive%20-%20UNIST/02.%202023%EB%85%84%202%ED%95%99%EA%B8%B0%20%EC%88%98%EC%97%85/%EC%A7%80%EC%8B%9D%20%EC%84%9C%EB%B9%84%EC%8A%A4%20%EA%B3%B5%ED%95%99/TermProject/Tsp_Modeling/training_model.ipynb#X12sZmlsZQ%3D%3D?line=3'>4</a>\u001b[0m \u001b[39mfor\u001b[39;00m epoch \u001b[39min\u001b[39;00m \u001b[39mrange\u001b[39m(\u001b[39m10\u001b[39m):\n\u001b[1;32m----> <a href='vscode-notebook-cell:/c%3A/Users/jymin/OneDrive%20-%20UNIST/02.%202023%EB%85%84%202%ED%95%99%EA%B8%B0%20%EC%88%98%EC%97%85/%EC%A7%80%EC%8B%9D%20%EC%84%9C%EB%B9%84%EC%8A%A4%20%EA%B3%B5%ED%95%99/TermProject/Tsp_Modeling/training_model.ipynb#X12sZmlsZQ%3D%3D?line=4'>5</a>\u001b[0m     \u001b[39mfor\u001b[39;00m i, s_i \u001b[39min\u001b[39;00m tqdm(\u001b[39menumerate\u001b[39m(dataloader)):\n\u001b[0;32m      <a href='vscode-notebook-cell:/c%3A/Users/jymin/OneDrive%20-%20UNIST/02.%202023%EB%85%84%202%ED%95%99%EA%B8%B0%20%EC%88%98%EC%97%85/%EC%A7%80%EC%8B%9D%20%EC%84%9C%EB%B9%84%EC%8A%A4%20%EA%B3%B5%ED%95%99/TermProject/Tsp_Modeling/training_model.ipynb#X12sZmlsZQ%3D%3D?line=5'>6</a>\u001b[0m         s_i \u001b[39m=\u001b[39m s_i[\u001b[39m0\u001b[39m]\n\u001b[0;32m      <a href='vscode-notebook-cell:/c%3A/Users/jymin/OneDrive%20-%20UNIST/02.%202023%EB%85%84%202%ED%95%99%EA%B8%B0%20%EC%88%98%EC%97%85/%EC%A7%80%EC%8B%9D%20%EC%84%9C%EB%B9%84%EC%8A%A4%20%EA%B3%B5%ED%95%99/TermProject/Tsp_Modeling/training_model.ipynb#X12sZmlsZQ%3D%3D?line=6'>7</a>\u001b[0m         p, pi \u001b[39m=\u001b[39m model(s_i)\n",
      "\u001b[1;31mNameError\u001b[0m: name 'dataloader' is not defined"
     ]
    }
   ],
   "source": [
    "Validation = []\n",
    "\n",
    "print(f\"...Start training on {device}...\")\n",
    "for epoch in range(10):\n",
    "    for i, s_i in tqdm(enumerate(dataloader)):\n",
    "        s_i = s_i[0]\n",
    "        p, pi = model(s_i)\n",
    "        L = model.get_length(s_i,pi)\n",
    "        b = critic(s_i)\n",
    "        \n",
    "        with torch.no_grad():\n",
    "            advantage = L - b\n",
    "        \n",
    "        loss = torch.mean(advantage * p)\n",
    "        loss_ = torch.mean((L - b)**2)\n",
    "        \n",
    "        optimizer.zero_grad()\n",
    "        loss.backward()\n",
    "        optimizer.step()\n",
    "        \n",
    "        optimizer_.zero_grad()\n",
    "        loss_.backward()\n",
    "        optimizer_.step()\n",
    "\n",
    "        if (i + 1)%1000 == 0:\n",
    "            _, pi_val = model(X_val)\n",
    "            L_val = model.get_length(X_val,pi_val)\n",
    "            Validation.append(torch.mean(L_val).item())\n",
    "            print(f\"Mean tour length for validation set at {(i+1)*(epoch+1)}th step: {torch.mean(L_val):.2f}\")\n",
    "    "
   ]
  },
  {
   "cell_type": "code",
   "execution_count": null,
   "metadata": {},
   "outputs": [],
   "source": [
    "plt.plot(Validation)"
   ]
  },
  {
   "cell_type": "code",
   "execution_count": null,
   "metadata": {},
   "outputs": [],
   "source": [
    "# torch.save(model.state_dict(), 'tsp_100_model_weigths.pth')"
   ]
  },
  {
   "cell_type": "code",
   "execution_count": null,
   "metadata": {},
   "outputs": [],
   "source": [
    "tsp = Tsp(N=45)\n",
    "x,_ = tsp.next_batch(1)"
   ]
  },
  {
   "cell_type": "code",
   "execution_count": null,
   "metadata": {},
   "outputs": [],
   "source": [
    "_,sol = model(x.to(device))"
   ]
  },
  {
   "cell_type": "code",
   "execution_count": null,
   "metadata": {},
   "outputs": [],
   "source": [
    "def plot_tsp_solution(coords, tour):\n",
    "    \"\"\"\n",
    "    coords: (num_cities, 2) - 각 도시의 좌표\n",
    "    tour: (num_cities,) - 선택된 도시의 인덱스로 구성된 투어\n",
    "    \"\"\"\n",
    "    num_cities = len(coords)\n",
    "    \n",
    "    # 경로 좌표 추출\n",
    "    path_coords = [coords[i] for i in tour]\n",
    "    \n",
    "    # 경로를 닫힌 형태로 만들기 위해 시작 도시를 경로에 추가\n",
    "    path_coords.append(coords[tour[0].item()])\n",
    "    \n",
    "    # 좌표 추출\n",
    "    path_x = [coord[0].item() for coord in path_coords]\n",
    "    path_y = [coord[1].item() for coord in path_coords]\n",
    "    \n",
    "    # 그래프 그리기\n",
    "    plt.figure(figsize=(6, 6))\n",
    "    plt.plot(path_x, path_y, 'o-')\n",
    "    plt.scatter(path_x[0], path_y[0], marker='s', color='red', label='Start')\n",
    "    plt.xlabel('X')\n",
    "    plt.ylabel('Y')\n",
    "    plt.title('TSP Solution')\n",
    "    plt.legend()\n",
    "    plt.grid(True)\n",
    "    plt.show()"
   ]
  },
  {
   "cell_type": "code",
   "execution_count": null,
   "metadata": {},
   "outputs": [],
   "source": [
    "plot_tsp_solution(x[0],sol[0])"
   ]
  },
  {
   "cell_type": "code",
   "execution_count": null,
   "metadata": {},
   "outputs": [],
   "source": [
    "sol[0][0].item()"
   ]
  }
 ],
 "metadata": {
  "kernelspec": {
   "display_name": "torch",
   "language": "python",
   "name": "python3"
  },
  "language_info": {
   "codemirror_mode": {
    "name": "ipython",
    "version": 3
   },
   "file_extension": ".py",
   "mimetype": "text/x-python",
   "name": "python",
   "nbconvert_exporter": "python",
   "pygments_lexer": "ipython3",
   "version": "3.9.13"
  },
  "orig_nbformat": 4
 },
 "nbformat": 4,
 "nbformat_minor": 2
}
