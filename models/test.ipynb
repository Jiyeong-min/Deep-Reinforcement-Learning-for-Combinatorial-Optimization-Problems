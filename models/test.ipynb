{
 "cells": [
  {
   "cell_type": "code",
   "execution_count": 1,
   "metadata": {},
   "outputs": [],
   "source": [
    "from PointerNet import PtrNet\n",
    "from tsp_data import Tsp\n",
    "import torch"
   ]
  },
  {
   "cell_type": "code",
   "execution_count": 5,
   "metadata": {},
   "outputs": [],
   "source": [
    "tsp = Tsp(5)"
   ]
  },
  {
   "cell_type": "code",
   "execution_count": 6,
   "metadata": {},
   "outputs": [],
   "source": [
    "X, Y = tsp.next_batch(3)"
   ]
  },
  {
   "cell_type": "code",
   "execution_count": 7,
   "metadata": {},
   "outputs": [
    {
     "data": {
      "text/plain": [
       "tensor([[[4.8201, 1.6062],\n",
       "         [4.3291, 1.0475],\n",
       "         [5.1804, 1.2001],\n",
       "         [6.5799, 0.5954],\n",
       "         [9.5335, 7.1690]],\n",
       "\n",
       "        [[6.1024, 9.9053],\n",
       "         [5.0669, 4.3093],\n",
       "         [3.8555, 2.2946],\n",
       "         [4.3699, 3.0646],\n",
       "         [9.7274, 5.2465]],\n",
       "\n",
       "        [[1.2779, 5.9250],\n",
       "         [8.7503, 0.6191],\n",
       "         [6.3891, 8.4391],\n",
       "         [6.3437, 5.6883],\n",
       "         [3.7901, 5.2128]]])"
      ]
     },
     "execution_count": 7,
     "metadata": {},
     "output_type": "execute_result"
    }
   ],
   "source": [
    "X"
   ]
  },
  {
   "cell_type": "code",
   "execution_count": 8,
   "metadata": {},
   "outputs": [],
   "source": [
    "model = PtrNet(hidden_dim=128)"
   ]
  },
  {
   "cell_type": "code",
   "execution_count": 9,
   "metadata": {},
   "outputs": [
    {
     "data": {
      "text/plain": [
       "(tensor([[0.0421],\n",
       "         [0.0427],\n",
       "         [0.0445]], grad_fn=<MulBackward0>),\n",
       " tensor([[0, 2, 1, 4, 3],\n",
       "         [0, 3, 2, 1, 4],\n",
       "         [0, 4, 3, 2, 1]]))"
      ]
     },
     "execution_count": 9,
     "metadata": {},
     "output_type": "execute_result"
    }
   ],
   "source": [
    "model(X)"
   ]
  },
  {
   "cell_type": "code",
   "execution_count": null,
   "metadata": {},
   "outputs": [],
   "source": []
  }
 ],
 "metadata": {
  "kernelspec": {
   "display_name": "torch",
   "language": "python",
   "name": "python3"
  },
  "language_info": {
   "codemirror_mode": {
    "name": "ipython",
    "version": 3
   },
   "file_extension": ".py",
   "mimetype": "text/x-python",
   "name": "python",
   "nbconvert_exporter": "python",
   "pygments_lexer": "ipython3",
   "version": "3.9.7"
  },
  "orig_nbformat": 4
 },
 "nbformat": 4,
 "nbformat_minor": 2
}
